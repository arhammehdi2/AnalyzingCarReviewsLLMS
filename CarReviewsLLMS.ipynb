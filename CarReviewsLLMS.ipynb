{
  "nbformat": 4,
  "nbformat_minor": 0,
  "metadata": {
    "colab": {
      "provenance": []
    },
    "kernelspec": {
      "name": "python3",
      "display_name": "Python 3"
    },
    "language_info": {
      "name": "python"
    }
  },
  "cells": [
    {
      "cell_type": "code",
      "execution_count": 12,
      "metadata": {
        "colab": {
          "base_uri": "https://localhost:8080/"
        },
        "id": "9smO3fbUZNBz",
        "outputId": "c2d19216-937a-40e4-d29d-7ddc4a886b9c"
      },
      "outputs": [
        {
          "output_type": "stream",
          "name": "stdout",
          "text": [
            "Review: I am very satisfied with my 2014 Nissan NV SL. I use this van for my business deliveries and personal use. Camping, road trips, etc. We dont have any children so I store most of the seats in my warehouse. I wanted the passenger van for the rear air conditioning. We drove our van from Florida to California for a Cross Country trip in 2014. We averaged about 18 mpg. We drove thru a lot of rain and It was a very comfortable and stable vehicle. The V8 Nissan Titan engine is a 500k mile engine. It has been tested many times by delivery and trucking companies. This is why Nissan gives you a 5 year or 100k mile bumper to bumper warranty. Many people are scared about driving this van because of its size. But with front and rear sonar sensors, large mirrors and the back up camera. It is easy to drive. The front and rear sensors also monitor the front and rear sides of the bumpers making it easier to park close to objects. Our Nissan NV is a Tow Monster. It pulls our 5000 pound travel trailer like its not even there. I have plenty of power to pass a vehicle if needed. The 5.6 liter engine produces 317 hp. I have owned Chevy and Ford vans and there were not very comfortable and had little cockpit room. The Nissan NV is the only vehicle made that has the engine forward like a pick up truck giving the driver plenty of room and comfort in the cockpit area. I dont have any negatives to say about my NV. This is a wide vehicle. The only modification I would like to see from Nissan is for them to add amber side mirror marker lights.BTW. I now own a 2016 Nissan NVP SL. Love it.\n",
            "Actual Label: POSITIVE\n",
            "Predicted Sentiment: POSITIVE (Confidence: 0.9294)\n",
            "\n",
            "Review: The car is fine. It's a bit loud and not very powerful. On one hand, compared to its peers, the interior is well-built. The transmission failed a few years ago, and the dealer replaced it under warranty with no issues. Now, about 60k miles later, the transmission is failing again. It sounds like a truck, and the issues are well-documented. The dealer tells me it is normal, refusing to do anything to resolve the issue. After owning the car for 4 years, there are many other vehicles I would purchase over this one. Initially, I really liked what the brand is about: ride quality, reliability, etc. But I will not purchase another one. Despite these concerns, I must say, the level of comfort in the car has always been satisfactory, but not worth the rest of issues found.\n",
            "Actual Label: NEGATIVE\n",
            "Predicted Sentiment: POSITIVE (Confidence: 0.8654)\n",
            "\n",
            "Review: My first foreign car. Love it, I would buy another.\n",
            "Actual Label: POSITIVE\n",
            "Predicted Sentiment: POSITIVE (Confidence: 0.9995)\n",
            "\n",
            "Review: I've come across numerous reviews praising the Rogue, and I genuinely feel like I might be missing something. It's only been a week since I got the car, and I am genuinely disappointed. I truly wish I could return it. My main concern revolves around what I see as a significant design flaw (which I believe also exists in the Murano, though that wasn't much better and considerably pricier). The rear windshield is just too small. The headrests in the back seat obstruct the sides of the rearview window. This \"Crossover\" feels more like a cheaply made compact car. My other vehicle is a Sonata, and it provides a significantly quieter and smoother ride. I did not anticipate this car to ride so roughly; my 2006 Pathfinder had a smoother ride! I would rate this car a 5 all around.\n",
            "Actual Label: NEGATIVE\n",
            "Predicted Sentiment: NEGATIVE (Confidence: 0.9935)\n",
            "\n",
            "Review: I've been dreaming of owning an SUV for quite a while, but I've been driving cars that were already paid for during an extended period. I ultimately made the decision to transition to a brand-new car, which, of course, involved taking on new payments. However, given that I don't drive extensively, I was inclined to avoid a substantial financial commitment. The Nissan Rogue provides me with the desired SUV experience without burdening me with an exorbitant payment; the financial arrangement is quite reasonable. Handling and styling are great; I have hauled 12 bags of mulch in the back with the seats down and could have held more. I am VERY satisfied overall. I find myself needing to exercise extra caution when making lane changes, particularly owing to the blind spots resulting from the small side windows situated towards the rear of the vehicle. To address this concern, I am actively engaged in making adjustments to my mirrors and consciously reducing the frequency of lane changes. The engine delivers strong performance, and the ride is really smooth.\n",
            "Actual Label: POSITIVE\n",
            "Predicted Sentiment: POSITIVE (Confidence: 0.9987)\n",
            "\n",
            "Accuracy: 0.8\n",
            "F1 Score: 0.8571428571428571\n"
          ]
        },
        {
          "output_type": "stream",
          "name": "stderr",
          "text": [
            "/usr/local/lib/python3.10/dist-packages/transformers/models/marian/tokenization_marian.py:197: UserWarning: Recommended: pip install sacremoses.\n",
            "  warnings.warn(\"Recommended: pip install sacremoses.\")\n",
            "Your input_length: 365 is bigger than 0.9 * max_length: 50. You might consider increasing your max_length manually, e.g. translator('...', max_length=400)\n"
          ]
        },
        {
          "output_type": "stream",
          "name": "stdout",
          "text": [
            "Translation:\n",
            "Estoy muy satisfecho con mi 2014 Nissan NV SL. Utilizo esta furgoneta para mis entregas de negocios y uso personal. Camping, viajes por carretera, etc. No tenemos niños así que guardo la mayoría de los asientos en\n",
            "BLEU Score: 0.2733590008405115\n"
          ]
        },
        {
          "output_type": "stream",
          "name": "stderr",
          "text": [
            "Some weights of the model checkpoint at deepset/minilm-uncased-squad2 were not used when initializing BertForQuestionAnswering: ['bert.pooler.dense.bias', 'bert.pooler.dense.weight']\n",
            "- This IS expected if you are initializing BertForQuestionAnswering from the checkpoint of a model trained on another task or with another architecture (e.g. initializing a BertForSequenceClassification model from a BertForPreTraining model).\n",
            "- This IS NOT expected if you are initializing BertForQuestionAnswering from the checkpoint of a model that you expect to be exactly identical (initializing a BertForSequenceClassification model from a BertForSequenceClassification model).\n"
          ]
        },
        {
          "output_type": "stream",
          "name": "stdout",
          "text": [
            "Extracted Answer: ride quality, reliability\n",
            "Review Summary:\n",
            "the Nissan Rogue provides me with the desired SUV experience without burdening me with an exorbitant payment; the financial arrangement is quite reasonable. I have hauled 12 bags of mulch in the back with the seats down and could have held more. I find\n"
          ]
        }
      ],
      "source": [
        "import pandas as pd\n",
        "import torch\n",
        "from transformers import pipeline, AutoTokenizer, AutoModelForQuestionAnswering\n",
        "import evaluate\n",
        "\n",
        "data_location = \"/content/car_reviews.csv\"\n",
        "reviews_data = pd.read_csv(data_location, delimiter=\";\")\n",
        "\n",
        "car_reviews = reviews_data['Review'].tolist()\n",
        "sentiment_labels = reviews_data['Class'].tolist()\n",
        "\n",
        "sentiment_classifier = pipeline('sentiment-analysis', model='distilbert-base-uncased-finetuned-sst-2-english')\n",
        "sentiment_predictions = sentiment_classifier(car_reviews)\n",
        "\n",
        "for review, sentiment_prediction, actual_label in zip(car_reviews, sentiment_predictions, sentiment_labels):\n",
        "    print(f\"Review: {review}\\nActual Label: {actual_label}\\nPredicted Sentiment: {sentiment_prediction['label']} (Confidence: {sentiment_prediction['score']:.4f})\\n\")\n",
        "\n",
        "accuracy_metric = evaluate.load(\"accuracy\")\n",
        "f1_metric = evaluate.load(\"f1\")\n",
        "\n",
        "integer_labels = [1 if label == \"POSITIVE\" else 0 for label in sentiment_labels]\n",
        "predicted_int_labels = [1 if prediction['label'] == \"POSITIVE\" else 0 for prediction in sentiment_predictions]\n",
        "\n",
        "accuracy = accuracy_metric.compute(references=integer_labels, predictions=predicted_int_labels)['accuracy']\n",
        "f1_score = f1_metric.compute(references=integer_labels, predictions=predicted_int_labels)['f1']\n",
        "print(f\"Accuracy: {accuracy}\\nF1 Score: {f1_score}\")\n",
        "\n",
        "translator_pipeline = pipeline(\"translation_en_to_fr\", model=\"Helsinki-NLP/opus-mt-en-es\")\n",
        "translation_result = translator_pipeline(car_reviews[0], max_length=50)[0]['translation_text']\n",
        "print(f\"Translation:\\n{translation_result}\")\n",
        "\n",
        "reference_translations_path = \"/content/reference_translations.txt\"\n",
        "with open(reference_translations_path, 'r') as file_ref:\n",
        "    reference_translations = [line.strip() for line in file_ref.readlines()]\n",
        "\n",
        "bleu_metric = evaluate.load(\"bleu\")\n",
        "bleu_score_result = bleu_metric.compute(predictions=[translation_result], references=[reference_translations])\n",
        "print(f\"BLEU Score: {bleu_score_result['bleu']}\")\n",
        "\n",
        "tokenizer_qa = AutoTokenizer.from_pretrained(\"deepset/minilm-uncased-squad2\")\n",
        "model_qa = AutoModelForQuestionAnswering.from_pretrained(\"deepset/minilm-uncased-squad2\")\n",
        "\n",
        "second_review = car_reviews[1]\n",
        "brand_question = \"What did he like about the brand?\"\n",
        "qa_inputs = tokenizer_qa(brand_question, second_review, return_tensors=\"pt\")\n",
        "\n",
        "with torch.no_grad():\n",
        "    qa_outputs = model_qa(**qa_inputs)\n",
        "answer_start = torch.argmax(qa_outputs.start_logits)\n",
        "answer_end = torch.argmax(qa_outputs.end_logits) + 1\n",
        "\n",
        "answer_text = tokenizer_qa.decode(qa_inputs[\"input_ids\"][0][answer_start:answer_end])\n",
        "print(f\"Extracted Answer: {answer_text}\")\n",
        "\n",
        "summarizer_pipeline = pipeline(\"summarization\", model=\"cnicu/t5-small-booksum\")\n",
        "last_review_summary = summarizer_pipeline(car_reviews[-1], max_length=55)[0]['summary_text']\n",
        "print(f\"Review Summary:\\n{last_review_summary}\")\n"
      ]
    }
  ]
}